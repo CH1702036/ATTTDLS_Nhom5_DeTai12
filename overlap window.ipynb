{
 "cells": [
  {
   "cell_type": "code",
   "execution_count": 2,
   "metadata": {},
   "outputs": [],
   "source": [
    "import cv2\n",
    "from PIL import Image\n",
    "\n",
    "img = cv2.imread('dct/63.png')\n",
    "(winW, winH) = (32, 32)\n",
    "dimensions = img.shape\n",
    "height = img.shape[0]\n",
    "width = img.shape[1]\n",
    "# loop, get first 1000s image to test\n",
    "for x in range(0,height-220):\n",
    "    for y in range(0,width-220):\n",
    "        crop_img = img[x:x+winW,y:y+winH]\n",
    "        cv2.imwrite(\"OverlapWindows/\" + str(x) + \"_\" + str(y) + \".png\", crop_img)"
   ]
  },
  {
   "cell_type": "code",
   "execution_count": null,
   "metadata": {},
   "outputs": [],
   "source": []
  }
 ],
 "metadata": {
  "kernelspec": {
   "display_name": "Python 3",
   "language": "python",
   "name": "python3"
  },
  "language_info": {
   "codemirror_mode": {
    "name": "ipython",
    "version": 3
   },
   "file_extension": ".py",
   "mimetype": "text/x-python",
   "name": "python",
   "nbconvert_exporter": "python",
   "pygments_lexer": "ipython3",
   "version": "3.6.8"
  }
 },
 "nbformat": 4,
 "nbformat_minor": 2
}
